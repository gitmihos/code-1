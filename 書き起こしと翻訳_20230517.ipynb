{
  "nbformat": 4,
  "nbformat_minor": 0,
  "metadata": {
    "colab": {
      "provenance": [],
      "gpuType": "T4",
      "mount_file_id": "1MFPC9p5duhELekJNuJdiYhQrCFC3nJ_X",
      "authorship_tag": "ABX9TyMbfBG8gDdt8WSTpQKBxfU9",
      "include_colab_link": true
    },
    "kernelspec": {
      "name": "python3",
      "display_name": "Python 3"
    },
    "language_info": {
      "name": "python"
    },
    "accelerator": "GPU",
    "gpuClass": "standard"
  },
  "cells": [
    {
      "cell_type": "markdown",
      "metadata": {
        "id": "view-in-github",
        "colab_type": "text"
      },
      "source": [
        "<a href=\"https://colab.research.google.com/github/gitmihos/code-1/blob/main/%E6%9B%B8%E3%81%8D%E8%B5%B7%E3%81%93%E3%81%97%E3%81%A8%E7%BF%BB%E8%A8%B3_20230517.ipynb\" target=\"_parent\"><img src=\"https://colab.research.google.com/assets/colab-badge.svg\" alt=\"Open In Colab\"/></a>"
      ]
    },
    {
      "cell_type": "code",
      "execution_count": 2,
      "metadata": {
        "colab": {
          "base_uri": "https://localhost:8080/"
        },
        "id": "hAfu3yrZdGAO",
        "outputId": "0c203e45-090c-4795-9b08-8cef44bc9899"
      },
      "outputs": [
        {
          "output_type": "stream",
          "name": "stdout",
          "text": [
            "Looking in indexes: https://pypi.org/simple, https://us-python.pkg.dev/colab-wheels/public/simple/\n",
            "Collecting git+https://github.com/openai/whisper.git\n",
            "  Cloning https://github.com/openai/whisper.git to /tmp/pip-req-build-a551u3ka\n",
            "  Running command git clone --filter=blob:none --quiet https://github.com/openai/whisper.git /tmp/pip-req-build-a551u3ka\n",
            "  Resolved https://github.com/openai/whisper.git to commit 248b6cb124225dd263bb9bd32d060b6517e067f8\n",
            "  Installing build dependencies ... \u001b[?25l\u001b[?25hdone\n",
            "  Getting requirements to build wheel ... \u001b[?25l\u001b[?25hdone\n",
            "  Preparing metadata (pyproject.toml) ... \u001b[?25l\u001b[?25hdone\n",
            "Requirement already satisfied: triton==2.0.0 in /usr/local/lib/python3.10/dist-packages (from openai-whisper==20230314) (2.0.0)\n",
            "Requirement already satisfied: numba in /usr/local/lib/python3.10/dist-packages (from openai-whisper==20230314) (0.56.4)\n",
            "Requirement already satisfied: numpy in /usr/local/lib/python3.10/dist-packages (from openai-whisper==20230314) (1.22.4)\n",
            "Requirement already satisfied: torch in /usr/local/lib/python3.10/dist-packages (from openai-whisper==20230314) (2.0.0+cu118)\n",
            "Requirement already satisfied: tqdm in /usr/local/lib/python3.10/dist-packages (from openai-whisper==20230314) (4.65.0)\n",
            "Requirement already satisfied: more-itertools in /usr/local/lib/python3.10/dist-packages (from openai-whisper==20230314) (9.1.0)\n",
            "Collecting tiktoken==0.3.3 (from openai-whisper==20230314)\n",
            "  Downloading tiktoken-0.3.3-cp310-cp310-manylinux_2_17_x86_64.manylinux2014_x86_64.whl (1.7 MB)\n",
            "\u001b[2K     \u001b[90m━━━━━━━━━━━━━━━━━━━━━━━━━━━━━━━━━━━━━━━━\u001b[0m \u001b[32m1.7/1.7 MB\u001b[0m \u001b[31m63.4 MB/s\u001b[0m eta \u001b[36m0:00:00\u001b[0m\n",
            "\u001b[?25hRequirement already satisfied: regex>=2022.1.18 in /usr/local/lib/python3.10/dist-packages (from tiktoken==0.3.3->openai-whisper==20230314) (2022.10.31)\n",
            "Requirement already satisfied: requests>=2.26.0 in /usr/local/lib/python3.10/dist-packages (from tiktoken==0.3.3->openai-whisper==20230314) (2.27.1)\n",
            "Requirement already satisfied: cmake in /usr/local/lib/python3.10/dist-packages (from triton==2.0.0->openai-whisper==20230314) (3.25.2)\n",
            "Requirement already satisfied: filelock in /usr/local/lib/python3.10/dist-packages (from triton==2.0.0->openai-whisper==20230314) (3.12.0)\n",
            "Requirement already satisfied: lit in /usr/local/lib/python3.10/dist-packages (from triton==2.0.0->openai-whisper==20230314) (16.0.3)\n",
            "Requirement already satisfied: llvmlite<0.40,>=0.39.0dev0 in /usr/local/lib/python3.10/dist-packages (from numba->openai-whisper==20230314) (0.39.1)\n",
            "Requirement already satisfied: setuptools in /usr/local/lib/python3.10/dist-packages (from numba->openai-whisper==20230314) (67.7.2)\n",
            "Requirement already satisfied: typing-extensions in /usr/local/lib/python3.10/dist-packages (from torch->openai-whisper==20230314) (4.5.0)\n",
            "Requirement already satisfied: sympy in /usr/local/lib/python3.10/dist-packages (from torch->openai-whisper==20230314) (1.11.1)\n",
            "Requirement already satisfied: networkx in /usr/local/lib/python3.10/dist-packages (from torch->openai-whisper==20230314) (3.1)\n",
            "Requirement already satisfied: jinja2 in /usr/local/lib/python3.10/dist-packages (from torch->openai-whisper==20230314) (3.1.2)\n",
            "Requirement already satisfied: urllib3<1.27,>=1.21.1 in /usr/local/lib/python3.10/dist-packages (from requests>=2.26.0->tiktoken==0.3.3->openai-whisper==20230314) (1.26.15)\n",
            "Requirement already satisfied: certifi>=2017.4.17 in /usr/local/lib/python3.10/dist-packages (from requests>=2.26.0->tiktoken==0.3.3->openai-whisper==20230314) (2022.12.7)\n",
            "Requirement already satisfied: charset-normalizer~=2.0.0 in /usr/local/lib/python3.10/dist-packages (from requests>=2.26.0->tiktoken==0.3.3->openai-whisper==20230314) (2.0.12)\n",
            "Requirement already satisfied: idna<4,>=2.5 in /usr/local/lib/python3.10/dist-packages (from requests>=2.26.0->tiktoken==0.3.3->openai-whisper==20230314) (3.4)\n",
            "Requirement already satisfied: MarkupSafe>=2.0 in /usr/local/lib/python3.10/dist-packages (from jinja2->torch->openai-whisper==20230314) (2.1.2)\n",
            "Requirement already satisfied: mpmath>=0.19 in /usr/local/lib/python3.10/dist-packages (from sympy->torch->openai-whisper==20230314) (1.3.0)\n",
            "Building wheels for collected packages: openai-whisper\n",
            "  Building wheel for openai-whisper (pyproject.toml) ... \u001b[?25l\u001b[?25hdone\n",
            "  Created wheel for openai-whisper: filename=openai_whisper-20230314-py3-none-any.whl size=798075 sha256=958a0ad0b990905843fdea86724852323000227268fe9a9ba98fd65c8d50509a\n",
            "  Stored in directory: /tmp/pip-ephem-wheel-cache-7_qjjqp_/wheels/8b/6c/d0/622666868c179f156cf595c8b6f06f88bc5d80c4b31dccaa03\n",
            "Successfully built openai-whisper\n",
            "Installing collected packages: tiktoken, openai-whisper\n",
            "Successfully installed openai-whisper-20230314 tiktoken-0.3.3\n"
          ]
        }
      ],
      "source": [
        "!pip install git+https://github.com/openai/whisper.git"
      ]
    },
    {
      "cell_type": "code",
      "source": [
        "import whisper"
      ],
      "metadata": {
        "id": "UdNGv2JllOb5"
      },
      "execution_count": 3,
      "outputs": []
    },
    {
      "cell_type": "code",
      "source": [
        "model = whisper.load_model(\"base\")\n",
        "result = model.transcribe(\"ongenSampleE.m4a\")\n",
        "print(result[\"text\"])"
      ],
      "metadata": {
        "colab": {
          "base_uri": "https://localhost:8080/"
        },
        "id": "IikT9lu8n1rJ",
        "outputId": "dda45e28-beb3-48d2-c267-7c1110499d9c"
      },
      "execution_count": 4,
      "outputs": [
        {
          "output_type": "stream",
          "name": "stderr",
          "text": [
            "100%|████████████████████████████████████████| 139M/139M [00:01<00:00, 127MiB/s]\n"
          ]
        },
        {
          "output_type": "stream",
          "name": "stdout",
          "text": [
            " As graduation sees and approaches, young people are bracing themselves for the job hunt that awaits them on the other side of the commencement ceremonies. But for this year's crop of new grads, finding work might not be as difficult as in previous years. A new study from the Economic Policy Institute shows the class of 2023 is graduating into a stronger labor market for young workers, as measured by lower unemployment and under-employment rates than the year prior graduating class. The youth unemployment rate for young people ages 16 to 24 hit 7.5 in March, a 70-year low, the study found. The figure also reflects a down-tech in the overall US unemployment rate, which fell to 3.5 percent during the same period. Bureau of Labor Statistics data shows.\n"
          ]
        }
      ]
    },
    {
      "cell_type": "markdown",
      "source": [
        " As graduation sees and approaches, young people are bracing themselves for the job hunt that awaits them on the other side of the commencement ceremonies. But for this year's crop of new grads, finding work might not be as difficult as in previous years. A new study from the Economic Policy Institute shows the class of 2023 is graduating into a stronger labor market for young workers, as measured by lower unemployment and under-employment rates than the year prior graduating class. The youth unemployment rate for young people ages 16 to 24 hit 7.5 in March, a 70-year low, the study found. The figure also reflects a down-tech in the overall US unemployment rate, which fell to 3.5 percent during the same period. Bureau of Labor Statistics data shows."
      ],
      "metadata": {
        "id": "BeNWHD9WoSUl"
      }
    },
    {
      "cell_type": "code",
      "source": [
        "model = whisper.load_model(“large”)\n",
        "result = model.transcribe(“ongenSample.m4a”, verbose=True, language=”ja”, task=”translate”)\n",
        "print(result[“text”])"
      ],
      "metadata": {
        "id": "6ZTZ6m9xpXQq"
      },
      "execution_count": null,
      "outputs": []
    },
    {
      "cell_type": "code",
      "source": [
        "!pip install pytube\n",
        "from pytube import YouTube"
      ],
      "metadata": {
        "colab": {
          "base_uri": "https://localhost:8080/"
        },
        "id": "rsczuBgbrHA0",
        "outputId": "949bc6fc-14dc-4b6b-fb47-3dfcaa14bb0f"
      },
      "execution_count": 9,
      "outputs": [
        {
          "output_type": "stream",
          "name": "stdout",
          "text": [
            "Looking in indexes: https://pypi.org/simple, https://us-python.pkg.dev/colab-wheels/public/simple/\n",
            "Collecting pytube\n",
            "  Downloading pytube-15.0.0-py3-none-any.whl (57 kB)\n",
            "\u001b[2K     \u001b[90m━━━━━━━━━━━━━━━━━━━━━━━━━━━━━━━━━━━━━━━━\u001b[0m \u001b[32m57.6/57.6 kB\u001b[0m \u001b[31m8.7 MB/s\u001b[0m eta \u001b[36m0:00:00\u001b[0m\n",
            "\u001b[?25hInstalling collected packages: pytube\n",
            "Successfully installed pytube-15.0.0\n"
          ]
        }
      ]
    },
    {
      "cell_type": "code",
      "source": [
        "!apt install ffmpeg"
      ],
      "metadata": {
        "colab": {
          "base_uri": "https://localhost:8080/"
        },
        "id": "v3Vv5j2zsTQc",
        "outputId": "3f1016c0-394b-4981-df40-d93007c4af63"
      },
      "execution_count": 15,
      "outputs": [
        {
          "output_type": "stream",
          "name": "stdout",
          "text": [
            "Reading package lists... Done\n",
            "Building dependency tree       \n",
            "Reading state information... Done\n",
            "ffmpeg is already the newest version (7:4.2.7-0ubuntu0.1).\n",
            "0 upgraded, 0 newly installed, 0 to remove and 24 not upgraded.\n"
          ]
        }
      ]
    },
    {
      "cell_type": "code",
      "source": [
        "# Import the libraries \n",
        "import whisper\n",
        "import torch\n",
        "import os\n",
        "\n",
        "# Initialize the device\n",
        "device = \"cuda\" if torch.cuda.is_available() else \"cpu\"\n",
        "\n",
        "# Load the model \n",
        "whisper_model = whisper.load_model(\"large\", device=device)"
      ],
      "metadata": {
        "colab": {
          "base_uri": "https://localhost:8080/"
        },
        "id": "XHnDJwWftOlh",
        "outputId": "b7afa094-a3ab-4f83-b36c-bff6cccbe866"
      },
      "execution_count": 16,
      "outputs": [
        {
          "output_type": "stream",
          "name": "stderr",
          "text": [
            "100%|█████████████████████████████████████| 2.87G/2.87G [00:48<00:00, 64.1MiB/s]\n"
          ]
        }
      ]
    },
    {
      "cell_type": "code",
      "source": [
        "# Install the module\n",
        "!pip install pytube\n",
        "\n",
        "# Import the module\n",
        "from pytube import YouTube"
      ],
      "metadata": {
        "colab": {
          "base_uri": "https://localhost:8080/"
        },
        "id": "5CoYvXVOtq5H",
        "outputId": "7b0795b2-f5c9-4c85-8172-164fff38d9da"
      },
      "execution_count": 17,
      "outputs": [
        {
          "output_type": "stream",
          "name": "stdout",
          "text": [
            "Looking in indexes: https://pypi.org/simple, https://us-python.pkg.dev/colab-wheels/public/simple/\n",
            "Requirement already satisfied: pytube in /usr/local/lib/python3.10/dist-packages (15.0.0)\n"
          ]
        }
      ]
    },
    {
      "cell_type": "code",
      "source": [
        "def video_to_audio(video_URL, destination, final_filename):\n",
        "\n",
        "  # Get the video\n",
        "  video = YouTube(video_URL)\n",
        "\n",
        "  # Convert video to Audio\n",
        "  audio = video.streams.filter(only_audio=True).first()\n",
        "\n",
        "  # Save to destination\n",
        "  output = audio.download(output_path = destination)\n",
        "\n",
        "  _, ext = os.path.splitext(output)\n",
        "  new_file = final_filename + '.mp3'\n",
        "\n",
        "  # Change the name of the file\n",
        "  os.rename(output, new_file)"
      ],
      "metadata": {
        "id": "naoxZF2AtzgW"
      },
      "execution_count": 19,
      "outputs": []
    },
    {
      "cell_type": "code",
      "source": [
        "URL = \"https://www.youtube.com/watch?v=hz5xWgjSUlk\"\n",
        "destination = \".\"\n",
        "final_filename = \"trialMedium\"\n",
        "video_to_audio(URL, destination, final_filename)\n",
        "\n",
        "# Run the test\n",
        "audio_file = \"trialMedium.mp3\"\n",
        "french_to_english = whisper_model.transcribe(audio_file, task = 'translate')\n",
        "\n",
        "# Show the result\n",
        "print(french_to_english[\"text\"])\n"
      ],
      "metadata": {
        "colab": {
          "base_uri": "https://localhost:8080/"
        },
        "id": "IdnjB5Xkqu5d",
        "outputId": "4c301e58-882e-4b0e-c496-6a8252d34c36"
      },
      "execution_count": 20,
      "outputs": [
        {
          "output_type": "stream",
          "name": "stdout",
          "text": [
            " I was asked to give a speech. I'm going to tell you right away, ladies and gentlemen, that I'm going to speak, so as not to say anything. I know, you think, if he has nothing to say, he'd better shut up. It's too easy. It's too easy. You want me to do like all those who have nothing to say and who keep it to themselves? Well, no, ladies and gentlemen, when I have nothing to say, I want you to know. I want you to know. I want to make others benefit from it. And if you, ladies and gentlemen, have nothing to say, well, we'll talk about it. We'll discuss it. I'm not an enemy of the convoy. But you'll tell me, if we talk about it, to say nothing, what are we going to talk about? Well, nothing. Because nothing is not nothing. The proof is that we can subtract it. Nothing minus nothing equals less than nothing. So if we can find less than nothing, we can already buy something with nothing. By multiplying it. Well, one times nothing is nothing. Two times nothing is not much. But three times nothing. For three times nothing, we can already buy something. And for cheap! Now, if you multiply three times nothing by three times nothing, nothing multiplied by nothing equals nothing, three multiplied by three equals nine, it's nothing to nine. Well, come on. Let's talk about something else. Let's talk about the situation. Without specifying which one. If you allow me, I'll briefly go over the history of the situation, whatever it is. A few months ago, remember, the situation, to be fair, was not better either. We were already heading towards disaster, and we knew it. We were aware of it, because we shouldn't think that those who knew how to say it were more ignorant of the situation than those of today. Besides, they're the same. Yes, the disaster, you thought, was for tomorrow. That is to say, in fact, it should be for today, by the way. If my calculations are correct. But what do we see today? That it's still for tomorrow. So I ask you the question, ladies and gentlemen, is it by always putting the disaster that we could do the same day, that we will avoid it? I'm pointing out, in between brackets, that if the current government is not able to take on the disaster, it is possible that the opposition will take it.\n"
          ]
        }
      ]
    },
    {
      "cell_type": "code",
      "source": [
        "URL = \"https://www.youtube.com/watch?v=Jyi_PAMBDKs\"\n",
        "destination = \".\"\n",
        "final_filename = \"trialJP\"\n",
        "video_to_audio(URL, destination, final_filename)\n",
        "\n",
        "# Run the test\n",
        "audio_file = \"trialJP.mp3\"\n",
        "jp_to_english = whisper_model.transcribe(audio_file, task = 'translate')\n",
        "\n",
        "# Show the result\n",
        "print(jp_to_english[\"text\"])\n"
      ],
      "metadata": {
        "colab": {
          "base_uri": "https://localhost:8080/"
        },
        "id": "3glVMtu6vQai",
        "outputId": "feebf6f1-088e-4a1e-b517-2bdc2a59fa5b"
      },
      "execution_count": 21,
      "outputs": [
        {
          "output_type": "stream",
          "name": "stdout",
          "text": [
            " I'm still thinking about you Hello, this is Gurin. This video is about Hachimura, who played a big role in the playoffs. Speaking of the Lakers with Hachimura, it was a situation where there was almost no expectation of him making the playoffs before the opening, but the team moved a lot during the season to make up for Hachimura's win. After trading with Dussel Westbrook, the Lakers began to show their strength that could be mistaken, winning the Wolves in the play-in tournament and deciding the playoffs in the Western Conference 7th place. And Hachimura, the most popular game 1 player, has scored 29 points from the bench. This is a record that has been recorded for more than 20 years in the history of the Lakers, and it is no doubt that it was the best start for Hachimura, who is about to renew his contract. In this video, I would like to talk about Hachimura, who is playing a big role. Let's get started! Hachimura's 3rd Test Scorer About 3 weeks ago, the Lakers had Hachimura as their asset, with Kendrick, who had three double-digit titles, just before the transfer. As a Wizards, we had to decide whether to leave the role of the team's 3rd Test Scorer to Hachimura or to Kyle Kuzma, and we chose to trade Hachimura, whose next contract was unpredictable. For Hachimura, this was his first transfer, so there was a lot of attention in the debut match against the Lakers. Hachimura has been a stable player since his transfer to the Lakers, but as a part of the trade with the Broncos, he has been transferred from the Jazz to the Javelin Bounder Build, so he has been used more often by the bench recently. Hachimura, who was changing his defense and aggressiveness, was not able to get a time to play in his career against the Chicago Blues at home on March 26. Therefore, I think that Hachimura has more and more voices worrying about his future career, not just his next contract. Hachimura, who will end his contract with the Lakers in this season, needed to appeal in the rest of this season. However, thanks to this Blues, Hachimura became a roadside player, and in the regular season, he scored 12.8 points per game and recorded a 53.8% field goal success rate. In the end of March, while LeBron James was away, he was active in filling his hole, so I think he was able to gain the trust of the Derby Ham Head Coach again. Playoff And in the playoff, the Lakers, which he belongs to, will play against the Memphis Grizzlies of the NEC. For the Grizzlies, who have injured Big Man, the player who should pay the most attention is of course Anthony Davis, but in Game 1, as a result of Davis' concentration, I think there were many scenes where Hachimura shot comfortably. The 29 points Hachimura scored are records that will be a career high in the playoff, and the fact that he recorded it from the bench will have a big impact on the series from now on. He scored 21 points in the second half alone and scored 12 points in the third quarter alone. Hachimura, who is in the Lakers, is struggling to shoot anyway, and the regular season's three-point success rate is only 29.6%. Therefore, it seems that the Grizzlies had an intention to intentionally shoot a three-point shot at Hachimura. In fact, Desmond Bain said, This is a series of 7 games, and he told me to pay attention to whether he can continue to play the same way after Game 2. It is a natural game plan to be able to shoot a lot of three-point shots, which is the game plan of the Grizzlies. However, Hachimura has recorded a three-point success rate of 44% in the Wizards era, so as a Japanese fan, you may have known that he is not a player who is never bad at shooting. Of course, it may be difficult for him to shoot at the same rate in the games to come. However, Phil Handy, an assistant coach at the Lakers, is a person who is highly evaluated for his player training, and Hachimura also said that he and Hachimura continued to work out around shooting. Even if you actually watch the game, I think that Hachimura's shooting has become much more mobile than in the Wizards era. I think that the Grizzlies will continue to shoot at Hachimura from now on, so maybe Hachimura will be the most active player in this series, which is the first round of the Lakers playoff. In Game 1, there was a scene where he showed good defense against Jackson Jr., so in the future, Hachimura may be used as a star player. And I'm a little impatient, but I'm also worried about Hachimura's next contract. Because recently, as Jordan Pool grew last season, there have been more cases where he has been evaluated for his playoff activities and won a major contract. If Hachimura can maintain his activities in Game 1, it would be no surprise if he was offered a contract that is bigger than expected. However, there are many players in the Lakers who are also waiting for a contract, so Hachimura alone cannot offer a major contract. Austin Reeves, who has gained great trust from coach Darvin Ham, is also looking for a contract. He is 24 years old and is said to be aiming for something bigger in his next contract, but the maximum contract the Lakers can offer him is said to be $51 million in 4 years. If a team other than the Lakers offers Reeves more contracts, there is almost no possibility of him remaining in the Lakers. Reeves himself hopes to remain in the Lakers, but he also scored 23 points in his first playoff game. It's a happy story for the Lakers, but if Hachimura and Reeves have maintained their high profile, the day may come in the offseason when they have to decide which team to leave Hachimura and Reeves. Before the playoffs, the Lakers were said to be ready to offer Hachimura a contract of $10 million per year. Considering the assets he has earned, it is understandable to assume such a contract, but it is not surprising that there will be offers of $20 million per year depending on the activities of the playoffs. Personally, I expect that it will be a good player if he plays more under Phil Handy than many contracts in a year. However, I think it depends on how much the Lakers' front is evaluating Hachimura now. By the way, since the contract with D'Angelo Russell and Dennis Schroeder will also end, I think there is a possibility that the team will have to be re-established in the offseason. Hachimura's team And it seems that a team is coming out to aim at such a player. Rumor has it that the Indiana Pacers, who are being re-established, are ready to offer a contract of $20 million per year to Hachimura. The Pacers have also negotiated a trade deal with the Wizards aiming for Hachimura during this season, and it is said that it was also included in the final three candidates. If they were so interested in the trade deal, It's no wonder that the Pacers feel a higher potential by seeing Hachimura, who scored 29 points in a high-level match like the playoffs. Unlike the Lakers, the Pacers will be a team with room for salary while remaining in a contract with the core members. If the Pacers prioritize their contracts with the Deebs and D'Angelo, it will be almost impossible to offer more than the Pacers. I don't know if Hachimura will prioritize the environment or the money, but the Pacers are sure to get a long play time on the starboard, so I think it will be a good environment for Hachimura in either team. It's not surprising that there will be more teams coming out in the future. Please pay attention to Hachimura's activities in the playoffs. Hachimura's activities in the playoffs This time, I talked about Hachimura, who played a major role in the playoffs. When I saw the Blues, which didn't get a play time, I thought that there was a possibility that his career would end as it is, but I think it was a playoff match that erased such anxiety. I think Hachimura's size is worth looking at the entire NBA, so if it's a team with a training environment, it's no wonder that he's a player who can be replaced by a All-Star. The defense that was the issue has also improved recently, and I'm looking forward to seeing what kind of player Hachimura will be when the playoffs end this year. I think that the Lakers' first round of playoffs will be very advantageous even if the Grizzlies' Big Man is a runner-up, so I'm looking forward to seeing how far the Lakers can go. Personally, I expect that Hachimura will be seen as a star player somewhere in the playoffs this year, but do you think that the Lakers can leave the expected results? Do you think Hachimura will continue to be a member of the Lakers? And what kind of contract do you think you can win in the offseason? If you like, please tell me your predictions. Yes, I would like to end this video around here. Thank you for watching until the end. See you in the next video if you like. Bye bye! Watch the next one! Subscribe here.\n"
          ]
        }
      ]
    },
    {
      "cell_type": "markdown",
      "source": [
        " I'm still thinking about you Hello, this is Gurin. This video is about Hachimura, who played a big role in the playoffs. Speaking of the Lakers with Hachimura, it was a situation where there was almost no expectation of him making the playoffs before the opening, but the team moved a lot during the season to make up for Hachimura's win. After trading with Dussel Westbrook, the Lakers began to show their strength that could be mistaken, winning the Wolves in the play-in tournament and deciding the playoffs in the Western Conference 7th place. And Hachimura, the most popular game 1 player, has scored 29 points from the bench. This is a record that has been recorded for more than 20 years in the history of the Lakers, and it is no doubt that it was the best start for Hachimura, who is about to renew his contract. In this video, I would like to talk about Hachimura, who is playing a big role. Let's get started! Hachimura's 3rd Test Scorer About 3 weeks ago, the Lakers had Hachimura as their asset, with Kendrick, who had three double-digit titles, just before the transfer. As a Wizards, we had to decide whether to leave the role of the team's 3rd Test Scorer to Hachimura or to Kyle Kuzma, and we chose to trade Hachimura, whose next contract was unpredictable. For Hachimura, this was his first transfer, so there was a lot of attention in the debut match against the Lakers. Hachimura has been a stable player since his transfer to the Lakers, but as a part of the trade with the Broncos, he has been transferred from the Jazz to the Javelin Bounder Build, so he has been used more often by the bench recently. Hachimura, who was changing his defense and aggressiveness, was not able to get a time to play in his career against the Chicago Blues at home on March 26. Therefore, I think that Hachimura has more and more voices worrying about his future career, not just his next contract. Hachimura, who will end his contract with the Lakers in this season, needed to appeal in the rest of this season. However, thanks to this Blues, Hachimura became a roadside player, and in the regular season, he scored 12.8 points per game and recorded a 53.8% field goal success rate. In the end of March, while LeBron James was away, he was active in filling his hole, so I think he was able to gain the trust of the Derby Ham Head Coach again. Playoff And in the playoff, the Lakers, which he belongs to, will play against the Memphis Grizzlies of the NEC. For the Grizzlies, who have injured Big Man, the player who should pay the most attention is of course Anthony Davis, but in Game 1, as a result of Davis' concentration, I think there were many scenes where Hachimura shot comfortably. The 29 points Hachimura scored are records that will be a career high in the playoff, and the fact that he recorded it from the bench will have a big impact on the series from now on. He scored 21 points in the second half alone and scored 12 points in the third quarter alone. Hachimura, who is in the Lakers, is struggling to shoot anyway, and the regular season's three-point success rate is only 29.6%. Therefore, it seems that the Grizzlies had an intention to intentionally shoot a three-point shot at Hachimura. In fact, Desmond Bain said, This is a series of 7 games, and he told me to pay attention to whether he can continue to play the same way after Game 2. It is a natural game plan to be able to shoot a lot of three-point shots, which is the game plan of the Grizzlies. However, Hachimura has recorded a three-point success rate of 44% in the Wizards era, so as a Japanese fan, you may have known that he is not a player who is never bad at shooting. Of course, it may be difficult for him to shoot at the same rate in the games to come. However, Phil Handy, an assistant coach at the Lakers, is a person who is highly evaluated for his player training, and Hachimura also said that he and Hachimura continued to work out around shooting. Even if you actually watch the game, I think that Hachimura's shooting has become much more mobile than in the Wizards era. I think that the Grizzlies will continue to shoot at Hachimura from now on, so maybe Hachimura will be the most active player in this series, which is the first round of the Lakers playoff. In Game 1, there was a scene where he showed good defense against Jackson Jr., so in the future, Hachimura may be used as a star player. And I'm a little impatient, but I'm also worried about Hachimura's next contract. Because recently, as Jordan Pool grew last season, there have been more cases where he has been evaluated for his playoff activities and won a major contract. If Hachimura can maintain his activities in Game 1, it would be no surprise if he was offered a contract that is bigger than expected. However, there are many players in the Lakers who are also waiting for a contract, so Hachimura alone cannot offer a major contract. Austin Reeves, who has gained great trust from coach Darvin Ham, is also looking for a contract. He is 24 years old and is said to be aiming for something bigger in his next contract, but the maximum contract the Lakers can offer him is said to be $51 million in 4 years. If a team other than the Lakers offers Reeves more contracts, there is almost no possibility of him remaining in the Lakers. Reeves himself hopes to remain in the Lakers, but he also scored 23 points in his first playoff game. It's a happy story for the Lakers, but if Hachimura and Reeves have maintained their high profile, the day may come in the offseason when they have to decide which team to leave Hachimura and Reeves. Before the playoffs, the Lakers were said to be ready to offer Hachimura a contract of $10 million per year. Considering the assets he has earned, it is understandable to assume such a contract, but it is not surprising that there will be offers of $20 million per year depending on the activities of the playoffs. Personally, I expect that it will be a good player if he plays more under Phil Handy than many contracts in a year. However, I think it depends on how much the Lakers' front is evaluating Hachimura now. By the way, since the contract with D'Angelo Russell and Dennis Schroeder will also end, I think there is a possibility that the team will have to be re-established in the offseason. Hachimura's team And it seems that a team is coming out to aim at such a player. Rumor has it that the Indiana Pacers, who are being re-established, are ready to offer a contract of $20 million per year to Hachimura. The Pacers have also negotiated a trade deal with the Wizards aiming for Hachimura during this season, and it is said that it was also included in the final three candidates. If they were so interested in the trade deal, It's no wonder that the Pacers feel a higher potential by seeing Hachimura, who scored 29 points in a high-level match like the playoffs. Unlike the Lakers, the Pacers will be a team with room for salary while remaining in a contract with the core members. If the Pacers prioritize their contracts with the Deebs and D'Angelo, it will be almost impossible to offer more than the Pacers. I don't know if Hachimura will prioritize the environment or the money, but the Pacers are sure to get a long play time on the starboard, so I think it will be a good environment for Hachimura in either team. It's not surprising that there will be more teams coming out in the future. Please pay attention to Hachimura's activities in the playoffs. Hachimura's activities in the playoffs This time, I talked about Hachimura, who played a major role in the playoffs. When I saw the Blues, which didn't get a play time, I thought that there was a possibility that his career would end as it is, but I think it was a playoff match that erased such anxiety. I think Hachimura's size is worth looking at the entire NBA, so if it's a team with a training environment, it's no wonder that he's a player who can be replaced by a All-Star. The defense that was the issue has also improved recently, and I'm looking forward to seeing what kind of player Hachimura will be when the playoffs end this year. I think that the Lakers' first round of playoffs will be very advantageous even if the Grizzlies' Big Man is a runner-up, so I'm looking forward to seeing how far the Lakers can go. Personally, I expect that Hachimura will be seen as a star player somewhere in the playoffs this year, but do you think that the Lakers can leave the expected results? Do you think Hachimura will continue to be a member of the Lakers? And what kind of contract do you think you can win in the offseason? If you like, please tell me your predictions. Yes, I would like to end this video around here. Thank you for watching until the end. See you in the next video if you like. Bye bye! Watch the next one! Subscribe here."
      ],
      "metadata": {
        "id": "PYQuHVJHwSzr"
      }
    }
  ]
}